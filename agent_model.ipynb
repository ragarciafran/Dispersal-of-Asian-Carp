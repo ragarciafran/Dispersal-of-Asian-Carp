{
 "cells": [
  {
   "cell_type": "markdown",
   "source": [
    "# Agent based model for Asian Carp dispersal\n",
    "## Main features\n",
    "1. Package that defines Asian Carp behavior and Water Body characteristics\n",
    "2. Jupyter notebook to define parameters and run simulation"
   ],
   "metadata": {}
  },
  {
   "cell_type": "markdown",
   "source": [
    "## Importing packages"
   ],
   "metadata": {}
  },
  {
   "cell_type": "code",
   "execution_count": 3,
   "source": [
    "import numpy as np\r\n",
    "from matplotlib import pyplot as plt\r\n",
    "import geopandas as gpd\r\n",
    "\r\n",
    "# for carp behavior\r\n",
    "from agent_based_carp import *\r\n",
    "\r\n",
    "# for progress\r\n",
    "from tqdm import tqdm\r\n",
    "\r\n",
    "# for saving parameters\r\n",
    "import json"
   ],
   "outputs": [],
   "metadata": {}
  },
  {
   "cell_type": "markdown",
   "source": [
    "## Defining geometries\n",
    "This cell defines the geometries that are used for the water body. Currently they are defined outside of the actual water body class. However, the water body classes are specific to particular geographies so they might as well be. "
   ],
   "metadata": {}
  },
  {
   "cell_type": "code",
   "execution_count": 4,
   "source": [
    "# setting up MS River + BC spillway\r\n",
    "# this is a geodataframe that only contains the geometries\r\n",
    "lakes = gpd.read_file(\"shapefiles/lakes/lakes.shp\")\r\n",
    "lakes = lakes.cx[:, :0]\r\n",
    "bonnet_carre = gpd.read_file(\"shapefiles/bonnet_carre.geojson\")\r\n",
    "bonnet_carre['ID'] = 1\r\n",
    "bonnet_carre = bonnet_carre[['ID', 'geometry']]\r\n",
    "full_water = lakes.append(bonnet_carre, ignore_index=True)\r\n",
    "full_water.crs = \"EPSG:4326\"\r\n",
    "full_water = full_water.to_crs(\"EPSG:32615\")\r\n",
    "\r\n",
    "# setting up upstream\r\n",
    "# shapely geometry (NOT geodataframe)\r\n",
    "upstream = gpd.read_file(\"shapefiles/upstream_river.geojson\")\r\n",
    "upstream.crs = \"EPSG:4326\"\r\n",
    "upstream = upstream.to_crs(\"EPSG:32615\")\r\n",
    "upstream = upstream.iat[0, 0]"
   ],
   "outputs": [],
   "metadata": {}
  },
  {
   "cell_type": "markdown",
   "source": [
    "## Setting parameters\r\n",
    "\r\n",
    "This next cell is for general parameter setting. It contains the established parameters for carp speed and movement patterns observed in the literature per season. In the future, we should actually test these parameters in a more systematic way.\r\n",
    "\r\n",
    "1. Spring speed: 55km/week, 0.09 m/s\r\n",
    "2. Summer speed: 25km/week, 0.04 m/s\r\n",
    "3. Fall speed: 90km/week, 0.14 m/s\r\n",
    "4. Winter speed: 12.5km/week, 0.02 m/s"
   ],
   "metadata": {}
  },
  {
   "cell_type": "code",
   "execution_count": 17,
   "source": [
    "# movement type\r\n",
    "movement_type = {\"random\":2, \"autocorrelation\": 0, \"upstream\":1}\r\n",
    "upstream_flag = True\r\n",
    "\r\n",
    "# movement speed\r\n",
    "density = 0.11/1000 #in carp per m^3\r\n",
    "school_size = 10\r\n",
    "if school_size:\r\n",
    "    density /= school_size\r\n",
    "carp_speed = 0.09 # in meters per second\r\n",
    "timestep_length = 1 # in hours\r\n",
    "\r\n",
    "distance = carp_speed*(timestep_length*60*60)\r\n",
    "print(distance)\r\n",
    "\r\n",
    "# movement multipliers\r\n",
    "shoreline_multiplier = 0.25\r\n",
    "dike_multiplier = 0.0625\r\n",
    "\r\n",
    "# number of timesteps\r\n",
    "simulation_length = 2*24 #in hours\r\n",
    "timesteps = int(simulation_length/timestep_length)\r\n",
    "print(timesteps)\r\n",
    "\r\n",
    "# spawn area\r\n",
    "spawn_area = gpd.read_file('shapefiles/spawn_area_2km.geojson', crs=\"EPSG:4326\").to_crs(\"EPSG:32615\")\r\n",
    "\r\n",
    "# dikes\r\n",
    "dikes = gpd.read_file(\"shapefiles/dikes_final.geojson\")\r\n",
    "dikes.crs = \"EPSG:4326\"\r\n",
    "dikes = dikes.to_crs(\"EPSG:32615\")\r\n",
    "dike_distance = 100\r\n",
    "\r\n",
    "# choose which of the dikes to use\r\n",
    "# 0. downstream, same side\r\n",
    "# 1. downstream, opposite side\r\n",
    "# 2. upstream same side\r\n",
    "# 3. upstream opposite side\r\n",
    "# None, for no dikes\r\n",
    "# dikes = dikes.iloc[[0]]\r\n",
    "dikes = None\r\n",
    "\r\n",
    "# plotting\r\n",
    "PLOT = False\r\n"
   ],
   "outputs": [
    {
     "output_type": "stream",
     "name": "stdout",
     "text": [
      "324.0\n",
      "48\n"
     ]
    },
    {
     "output_type": "stream",
     "name": "stderr",
     "text": [
      "C:\\Users\\ragarcia\\anaconda3\\envs\\asian_carp\\lib\\site-packages\\pyproj\\crs\\crs.py:68: FutureWarning: '+init=<authority>:<code>' syntax is deprecated. '<authority>:<code>' is the preferred initialization method. When making the change, be mindful of axis order changes: https://pyproj4.github.io/pyproj/stable/gotchas.html#axis-order-changes-in-proj-6\n",
      "  return _prepare_from_string(\" \".join(pjargs))\n"
     ]
    }
   ],
   "metadata": {}
  },
  {
   "cell_type": "code",
   "execution_count": 4,
   "source": [
    "%matplotlib qt\r\n",
    "# initializing the carp\r\n",
    "asianCarp = AsianCarp(density, distance=distance, shoreline_multiplier=shoreline_multiplier, dike_multiplier=dike_multiplier, movement_type=movement_type, upstream_flag=upstream_flag)\r\n",
    "\r\n",
    "# initializing MS River environment\r\n",
    "print(\"Loading simulation environment...\")\r\n",
    "ms_dict = {'geometry':full_water['geometry'].tolist()}\r\n",
    "ms_river = MSRiver(asianCarp, ms_dict, spawn_area=spawn_area, upstream=upstream, crs=\"EPSG:32615\", bc_respawn=False, dikes=dikes, dike_distance=dike_distance)\r\n",
    "print(\"Starting simulation\")\r\n",
    "\r\n",
    "# list the contains the number of crossings per timestep\r\n",
    "crossings = []\r\n",
    "\r\n",
    "if PLOT:\r\n",
    "    fig, ax = plt.subplots()\r\n",
    "    ms_river.plotRiver(ax, \"Start\")\r\n",
    "    # Note that using time.sleep does *not* work here!\r\n",
    "    plt.pause(5)\r\n",
    "\r\n",
    "for t in tqdm (range (timesteps), \r\n",
    "               desc=\"Running…\", \r\n",
    "               ascii=False, ncols=75):\r\n",
    "    ms_river.updateAgents()\r\n",
    "    _, crossing_count = ms_river.respawnAgents()\r\n",
    "\r\n",
    "    crossings.append(crossing_count)\r\n",
    "    \r\n",
    "    if PLOT:\r\n",
    "        ms_river.plotRiver(ax, \"timestep {}\".format(t+1))\r\n"
   ],
   "outputs": [
    {
     "output_type": "stream",
     "name": "stdout",
     "text": [
      "Loading simulation environment...\n",
      "1009\n"
     ]
    },
    {
     "output_type": "stream",
     "name": "stderr",
     "text": [
      "C:\\Users\\ragarcia\\anaconda3\\envs\\asian_carp\\lib\\site-packages\\geopandas\\geodataframe.py:91: UserWarning: Pandas doesn't allow columns to be created via a new attribute name - see https://pandas.pydata.org/pandas-docs/stable/indexing.html#attribute-access\n",
      "  super(GeoDataFrame, self).__setattr__(attr, val)\n"
     ]
    },
    {
     "output_type": "stream",
     "name": "stdout",
     "text": [
      "Starting simulation\n"
     ]
    },
    {
     "output_type": "stream",
     "name": "stderr",
     "text": [
      "Running…: 100%|████████████████████████████| 48/48 [04:31<00:00,  5.65s/it]\n"
     ]
    }
   ],
   "metadata": {
    "tags": []
   }
  },
  {
   "cell_type": "markdown",
   "source": [
    "## Plotting results\n",
    "This plots the number of crossings per timestep. Other metrics could be plotted."
   ],
   "metadata": {}
  },
  {
   "cell_type": "code",
   "execution_count": 5,
   "source": [
    "# plotting the number of crossings per timestep\r\n",
    "fig, ax = plt.subplots()\r\n",
    "ax.plot(np.arange(1, len(crossings)+1), school_size*np.cumsum(crossings))\r\n",
    "ax.plot(np.arange(1, len(crossings)+1), [school_size*asianCarp.num_agents]*len(crossings), 'r--')\r\n",
    "ax.set_title(\"Cumulative crossings per timestep\")\r\n",
    "ax.set_xlabel(\"Timestep\")\r\n",
    "ax.set_ylabel(\"Number of crossings\")\r\n",
    "plt.show()"
   ],
   "outputs": [],
   "metadata": {}
  },
  {
   "cell_type": "code",
   "execution_count": 6,
   "source": [
    "fig, ax = plt.subplots()\r\n",
    "ms_river.plotRiver(ax, \"timestep {}\".format(t+1))"
   ],
   "outputs": [],
   "metadata": {}
  },
  {
   "cell_type": "markdown",
   "source": [
    "## Exporting parameters\r\n",
    "This is simply to make automation of these simulations easier"
   ],
   "metadata": {}
  },
  {
   "cell_type": "code",
   "execution_count": 18,
   "source": [
    "silver = {\"density\":1.79/1000, \"speed\":[0.09, 0.04, 0.14, 0.02]}\r\n",
    "bighead = {\"density\":0.42/1000, \"speed\":[0.18, 0.08, 0.28, 0.04]}\r\n",
    "black = {\"density\":0.11/1000, \"speed\":[0.09, 0.04, 0.14, 0.02]}\r\n",
    "\r\n",
    "movement_spring = {\"random\":2, \"autocorrelation\":0, \"upstream\":1}\r\n",
    "movement_summer = {\"random\":1, \"autocorrelation\":1, \"upstream\":0}\r\n",
    "movement_fall = {\"random\":2, \"autocorrelation\":0, \"upstream\":1}\r\n",
    "movement_winter = {\"random\":1, \"autocorrelation\":1, \"upstream\":0}\r\n",
    "\r\n",
    "carp_dict = {\"silver\":silver, \"bighead\":bighead, \"black\":black, \"movement\":[movement_spring, movement_summer, movement_fall, movement_winter], \"upstream\":[True, True, False, True]}\r\n",
    "\r\n",
    "with open(\"carp.json\", \"w\") as outfile:\r\n",
    "    json.dump(carp_dict, outfile)"
   ],
   "outputs": [],
   "metadata": {}
  },
  {
   "cell_type": "code",
   "execution_count": null,
   "source": [],
   "outputs": [],
   "metadata": {}
  }
 ],
 "metadata": {
  "interpreter": {
   "hash": "b35a71d5d3926fd9330f88194a7b909cd7cd39f0c86b86a97db239e44fde82e0"
  },
  "kernelspec": {
   "name": "python3",
   "display_name": "Python 3.8.10 64-bit ('asian_carp': conda)"
  },
  "language_info": {
   "codemirror_mode": {
    "name": "ipython",
    "version": 3
   },
   "file_extension": ".py",
   "mimetype": "text/x-python",
   "name": "python",
   "nbconvert_exporter": "python",
   "pygments_lexer": "ipython3",
   "version": "3.8.10"
  }
 },
 "nbformat": 4,
 "nbformat_minor": 5
}